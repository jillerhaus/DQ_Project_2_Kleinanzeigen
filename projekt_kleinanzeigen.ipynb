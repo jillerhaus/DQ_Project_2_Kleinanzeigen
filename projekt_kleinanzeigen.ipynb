{
 "cells": [
  {
   "cell_type": "markdown",
   "metadata": {
    "collapsed": true
   },
   "source": [
    "# eBay Kleinanzeigen\n",
    "\n",
    "In this guided project I will analyze data from eBay Kleinanzeigen from car sales"
   ]
  },
  {
   "cell_type": "code",
   "execution_count": 1,
   "metadata": {
    "collapsed": false
   },
   "outputs": [],
   "source": [
    "import pandas as pd\n",
    "import numpy as np\n",
    "autos = pd.read_csv('autos.csv', encoding = 'Latin-1')"
   ]
  },
  {
   "cell_type": "code",
   "execution_count": 2,
   "metadata": {
    "collapsed": false
   },
   "outputs": [
    {
     "name": "stdout",
     "output_type": "stream",
     "text": [
      "<class 'pandas.core.frame.DataFrame'>\n",
      "RangeIndex: 50000 entries, 0 to 49999\n",
      "Data columns (total 20 columns):\n",
      "dateCrawled            50000 non-null object\n",
      "name                   50000 non-null object\n",
      "seller                 50000 non-null object\n",
      "offerType              50000 non-null object\n",
      "price                  50000 non-null object\n",
      "abtest                 50000 non-null object\n",
      "vehicleType            44905 non-null object\n",
      "yearOfRegistration     50000 non-null int64\n",
      "gearbox                47320 non-null object\n",
      "powerPS                50000 non-null int64\n",
      "model                  47242 non-null object\n",
      "odometer               50000 non-null object\n",
      "monthOfRegistration    50000 non-null int64\n",
      "fuelType               45518 non-null object\n",
      "brand                  50000 non-null object\n",
      "notRepairedDamage      40171 non-null object\n",
      "dateCreated            50000 non-null object\n",
      "nrOfPictures           50000 non-null int64\n",
      "postalCode             50000 non-null int64\n",
      "lastSeen               50000 non-null object\n",
      "dtypes: int64(5), object(15)\n",
      "memory usage: 7.6+ MB\n"
     ]
    }
   ],
   "source": [
    "autos.info()"
   ]
  },
  {
   "cell_type": "markdown",
   "metadata": {
    "collapsed": true
   },
   "source": [
    "# Observations about the data\n",
    "* 50,000 entries\n",
    "* 12 Columns (most are strings)\n",
    "* Column names in camelCase not snake_case\n",
    "* Columns with nan-Objects:\n",
    "    * vehicle type\n",
    "    * model\n",
    "    * fuel type\n",
    "    * not repaired damage\n",
    "* Column names and entries are in German, which I assume I need to change"
   ]
  },
  {
   "cell_type": "code",
   "execution_count": 3,
   "metadata": {
    "collapsed": false
   },
   "outputs": [],
   "source": [
    "autos_columns = autos.columns\n",
    "for name in autos_columns:\n",
    "    name = name.strip()\n",
    "autos.columns = autos_columns\n",
    "\n",
    "replace_dic = {'dateCrawled':'date_crawled','offerType' : 'offer_type', 'vehicleType' : 'vehicle_type' ,\n",
    "               'yearOfRegistration' : 'registration_year', \n",
    "               'powerPS' : 'power_ps', 'monthOfRegistration' : 'registration_month'\n",
    "              , 'fuelType' : 'fuel_type', 'notRepairedDamage' : 'unrepaired_damage'\n",
    "              , 'dateCreated' : 'ad_created', 'nrOfPictures' : 'nr_of_pictures'\n",
    "              ,'postalCode' : 'postal_code', 'lastSeen' : 'last_seen'}\n",
    "autos.rename(columns = replace_dic, inplace = True)\n",
    "\n"
   ]
  },
  {
   "cell_type": "code",
   "execution_count": 4,
   "metadata": {
    "collapsed": false,
    "scrolled": true
   },
   "outputs": [],
   "source": [
    "#autos.describe(include = 'all')\n"
   ]
  },
  {
   "cell_type": "code",
   "execution_count": 5,
   "metadata": {
    "collapsed": false,
    "scrolled": true
   },
   "outputs": [
    {
     "name": "stdout",
     "output_type": "stream",
     "text": [
      "2016-04-03 00:00:00    1946\n",
      "2016-03-20 00:00:00    1893\n",
      "2016-03-21 00:00:00    1886\n",
      "2016-04-04 00:00:00    1844\n",
      "2016-03-12 00:00:00    1831\n",
      "2016-03-14 00:00:00    1761\n",
      "2016-04-02 00:00:00    1754\n",
      "2016-03-28 00:00:00    1748\n",
      "2016-03-07 00:00:00    1737\n",
      "2016-03-29 00:00:00    1707\n",
      "2016-03-19 00:00:00    1692\n",
      "2016-04-01 00:00:00    1690\n",
      "2016-03-15 00:00:00    1687\n",
      "2016-03-30 00:00:00    1672\n",
      "2016-03-08 00:00:00    1667\n",
      "2016-03-09 00:00:00    1662\n",
      "2016-03-22 00:00:00    1640\n",
      "2016-03-11 00:00:00    1639\n",
      "2016-03-26 00:00:00    1628\n",
      "2016-03-23 00:00:00    1609\n",
      "2016-03-31 00:00:00    1596\n",
      "2016-03-25 00:00:00    1594\n",
      "2016-03-10 00:00:00    1593\n",
      "2016-03-17 00:00:00    1560\n",
      "2016-03-27 00:00:00    1545\n",
      "2016-03-16 00:00:00    1500\n",
      "2016-03-24 00:00:00    1454\n",
      "2016-03-05 00:00:00    1152\n",
      "2016-03-13 00:00:00     846\n",
      "2016-03-06 00:00:00     756\n",
      "                       ... \n",
      "2016-01-27 00:00:00       3\n",
      "2016-02-02 00:00:00       2\n",
      "2016-02-18 00:00:00       2\n",
      "2016-01-10 00:00:00       2\n",
      "2016-02-20 00:00:00       2\n",
      "2016-02-14 00:00:00       2\n",
      "2016-02-09 00:00:00       2\n",
      "2016-02-26 00:00:00       2\n",
      "2016-02-05 00:00:00       2\n",
      "2016-02-24 00:00:00       2\n",
      "2016-01-16 00:00:00       1\n",
      "2016-02-17 00:00:00       1\n",
      "2016-02-22 00:00:00       1\n",
      "2015-11-10 00:00:00       1\n",
      "2016-01-13 00:00:00       1\n",
      "2016-01-29 00:00:00       1\n",
      "2016-02-07 00:00:00       1\n",
      "2015-06-11 00:00:00       1\n",
      "2015-12-30 00:00:00       1\n",
      "2015-12-05 00:00:00       1\n",
      "2016-01-07 00:00:00       1\n",
      "2016-02-01 00:00:00       1\n",
      "2016-02-16 00:00:00       1\n",
      "2016-01-14 00:00:00       1\n",
      "2015-08-10 00:00:00       1\n",
      "2016-01-22 00:00:00       1\n",
      "2016-02-11 00:00:00       1\n",
      "2016-01-03 00:00:00       1\n",
      "2015-09-09 00:00:00       1\n",
      "2016-02-08 00:00:00       1\n",
      "Name: ad_created, Length: 76, dtype: int64\n"
     ]
    }
   ],
   "source": [
    "print(autos['ad_created'].value_counts())"
   ]
  },
  {
   "cell_type": "markdown",
   "metadata": {},
   "source": [
    "Columns as candidates for being dropped:\n",
    "* Seller:\n",
    "    All the entries are private except for one. Should probabaly exclude that one as well as this column\n",
    "* Offer Type:\n",
    "    All are offers, one is an ask. This does not provide much information, should probably exclude the one asking entry\n",
    "* nr of pictures: all are 0. This is useless and incorrect information\n",
    "* registration month: no useful information\n",
    "\n",
    "Columns for cleaning:\n",
    "* Name, very much not uniform\n",
    "* Model\n",
    "\n",
    "Numeric Values stored as strings:\n",
    "* price\n",
    "* odometer\n",
    "\n"
   ]
  },
  {
   "cell_type": "code",
   "execution_count": 6,
   "metadata": {
    "collapsed": false
   },
   "outputs": [
    {
     "name": "stdout",
     "output_type": "stream",
     "text": [
      "object\n",
      "true\n",
      "None\n"
     ]
    }
   ],
   "source": [
    "# Make price and odometer into numerical values and rename their column names to\n",
    "# include measurements\n",
    "print(autos['price'].dtype)\n",
    "if autos['price'].dtype == object:\n",
    "    print('true')\n",
    "    autos['price'] = autos['price'].str.replace('$','')\n",
    "    autos['price'] = autos['price'].str.replace(',','')\n",
    "    autos['price'] = autos['price'].astype(float)\n",
    "    \n",
    "\n",
    "if autos['odometer'].dtype == object:\n",
    "    autos['odometer'] = autos['odometer'].str.replace('km','')\n",
    "    autos['odometer'] = autos['odometer'].str.replace(',','')\n",
    "    autos['odometer'] = autos['odometer'].astype(int)\n",
    "\n",
    "#change the names of the columns\n",
    "print(autos.rename(columns = {'odometer' : 'odometer_km'}, inplace = True))\n",
    "\n",
    "\n",
    "\n"
   ]
  },
  {
   "cell_type": "code",
   "execution_count": 7,
   "metadata": {
    "collapsed": false
   },
   "outputs": [
    {
     "name": "stdout",
     "output_type": "stream",
     "text": [
      "min: 5000\n",
      "max: 150000\n",
      "(13,)\n",
      "count     50000.000000\n",
      "mean     125732.700000\n",
      "std       40042.211706\n",
      "min        5000.000000\n",
      "25%      125000.000000\n",
      "50%      150000.000000\n",
      "75%      150000.000000\n",
      "max      150000.000000\n",
      "Name: odometer_km, dtype: float64\n",
      "150000    32424\n",
      "125000     5170\n",
      "100000     2169\n",
      "90000      1757\n",
      "80000      1436\n",
      "Name: odometer_km, dtype: int64\n"
     ]
    }
   ],
   "source": [
    "def explore(name):\n",
    "    print('min: '+ str(autos[name].min()))\n",
    "    print('max: ' + str(autos[name].max()))\n",
    "    print(autos[name].unique().shape)\n",
    "    print(autos[name].describe())\n",
    "    print((autos)[name].value_counts().sort_values(axis= 0,ascending = False).head())\n",
    "explore('odometer_km')"
   ]
  },
  {
   "cell_type": "markdown",
   "metadata": {
    "collapsed": true
   },
   "source": [
    "# Excluding unrealistic values\n",
    "* Price:\n",
    "    * maximum: 200k. Nobody is going to sell a brand new supercar on kleinanzeigen\n",
    "    * minimum 500. Just to exclude the 0 which are often used for other things than to offer a product (ask if someone has a product) and to exclude car parts put put into the car category for more views\n",
    "    \n",
    "* Odometer:\n",
    "    * no minimum, people could be selling new cars also the minimum has been pre-set to 500\n",
    "    * maximum: 500,000 cars don't last much longer"
   ]
  },
  {
   "cell_type": "code",
   "execution_count": 8,
   "metadata": {
    "collapsed": false
   },
   "outputs": [],
   "source": [
    "price_mask = autos['price'].between(1, 200000)\n",
    "odometer_mask = autos['odometer_km'].between(0,500000)\n",
    "#print(price_mask & odometer_mask)\n",
    "#price_mask.shape\n",
    "autos = autos.loc[price_mask]\n",
    "\n",
    "#print(autos.loc[autos.loc[(price_mask),:],:].shape())\n"
   ]
  },
  {
   "cell_type": "markdown",
   "metadata": {},
   "source": [
    "Now we will analyze the date distribution"
   ]
  },
  {
   "cell_type": "code",
   "execution_count": 32,
   "metadata": {
    "collapsed": false
   },
   "outputs": [
    {
     "name": "stdout",
     "output_type": "stream",
     "text": [
      "2016-03-05    0.025331\n",
      "2016-03-06    0.014045\n",
      "2016-03-07    0.036020\n",
      "2016-03-08    0.033301\n",
      "2016-03-09    0.033095\n",
      "2016-03-10    0.032189\n",
      "2016-03-11    0.032580\n",
      "2016-03-12    0.036926\n",
      "2016-03-13    0.015672\n",
      "2016-03-14    0.036555\n",
      "2016-03-15    0.034290\n",
      "2016-03-16    0.029615\n",
      "2016-03-17    0.031633\n",
      "2016-03-18    0.012913\n",
      "2016-03-19    0.034784\n",
      "2016-03-20    0.037894\n",
      "2016-03-21    0.037358\n",
      "2016-03-22    0.032992\n",
      "2016-03-23    0.032210\n",
      "2016-03-24    0.029347\n",
      "2016-03-25    0.031612\n",
      "2016-03-26    0.032210\n",
      "2016-03-27    0.031077\n",
      "2016-03-28    0.034825\n",
      "2016-03-29    0.034104\n",
      "2016-03-30    0.033672\n",
      "2016-03-31    0.031839\n",
      "2016-04-01    0.033692\n",
      "2016-04-02    0.035484\n",
      "2016-04-03    0.038594\n",
      "2016-04-04    0.036493\n",
      "2016-04-05    0.013077\n",
      "2016-04-06    0.003172\n",
      "2016-04-07    0.001400\n",
      "Name: date_crawled, dtype: float64\n"
     ]
    }
   ],
   "source": [
    "print(autos['date_crawled'].str[:10].value_counts(normalize = True, dropna = False).sort_index())"
   ]
  },
  {
   "cell_type": "markdown",
   "metadata": {
    "collapsed": true
   },
   "source": [
    "# Conclusions from date_crawled:\n",
    "\n",
    "* The crawler was activated every day for a month. It enters the new data.\n",
    "* There are significant drops in some days in the number of entries on the site. These are not correlated with the days of the week or with German holidays\n",
    "* It is currently not known why these drops exist and are so pronunced. The drop in entries in the last three days indicates a correlation to the crawler in some way"
   ]
  },
  {
   "cell_type": "code",
   "execution_count": 31,
   "metadata": {
    "collapsed": false
   },
   "outputs": [
    {
     "name": "stdout",
     "output_type": "stream",
     "text": [
      "2016-04-07    0.001256\n",
      "2016-04-06    0.003254\n",
      "2016-04-05    0.011801\n",
      "2016-04-04    0.036864\n",
      "2016-04-03    0.038841\n",
      "2016-04-02    0.035155\n",
      "2016-04-01    0.033692\n",
      "2016-03-31    0.031880\n",
      "2016-03-30    0.033486\n",
      "2016-03-29    0.034042\n",
      "2016-03-28    0.034949\n",
      "2016-03-27    0.030974\n",
      "2016-03-26    0.032271\n",
      "2016-03-25    0.031756\n",
      "2016-03-24    0.029285\n",
      "2016-03-23    0.032045\n",
      "2016-03-22    0.032807\n",
      "2016-03-21    0.037564\n",
      "2016-03-20    0.037955\n",
      "2016-03-19    0.033692\n",
      "2016-03-18    0.013592\n",
      "2016-03-17    0.031283\n",
      "2016-03-16    0.030130\n",
      "2016-03-15    0.034022\n",
      "2016-03-14    0.035196\n",
      "2016-03-13    0.017011\n",
      "2016-03-12    0.036761\n",
      "2016-03-11    0.032910\n",
      "2016-03-10    0.031901\n",
      "2016-03-09    0.033157\n",
      "                ...   \n",
      "2016-02-21    0.000062\n",
      "2016-02-20    0.000041\n",
      "2016-02-19    0.000062\n",
      "2016-02-18    0.000041\n",
      "2016-02-17    0.000021\n",
      "2016-02-16    0.000021\n",
      "2016-02-14    0.000041\n",
      "2016-02-12    0.000041\n",
      "2016-02-11    0.000021\n",
      "2016-02-09    0.000021\n",
      "2016-02-08    0.000021\n",
      "2016-02-07    0.000021\n",
      "2016-02-05    0.000041\n",
      "2016-02-02    0.000041\n",
      "2016-02-01    0.000021\n",
      "2016-01-29    0.000021\n",
      "2016-01-27    0.000062\n",
      "2016-01-22    0.000021\n",
      "2016-01-16    0.000021\n",
      "2016-01-14    0.000021\n",
      "2016-01-13    0.000021\n",
      "2016-01-10    0.000041\n",
      "2016-01-07    0.000021\n",
      "2016-01-03    0.000021\n",
      "2015-12-30    0.000021\n",
      "2015-12-05    0.000021\n",
      "2015-11-10    0.000021\n",
      "2015-09-09    0.000021\n",
      "2015-08-10    0.000021\n",
      "2015-06-11    0.000021\n",
      "Name: ad_created, Length: 76, dtype: float64\n"
     ]
    }
   ],
   "source": [
    "print(autos['ad_created'].str[:10].value_counts(dropna=False, normalize = True).sort_index(ascending = False))"
   ]
  },
  {
   "cell_type": "markdown",
   "metadata": {},
   "source": [
    "# ad_created interpretation\n",
    "\n",
    "* The data includes timeframes from before the crawler was activated. These show very low numbers, indicating, that the data was taken from the website when the crawler was already active, Thus only showing the ads still active at that time. This also shows that typically the ads are not on the website for over a month.\n",
    "* In the time where the crawler was active, the number of new ads for a given day is not equal to the ads found by the crawler, this could be because the data from the crawler was taken at a different time than the data from the website"
   ]
  },
  {
   "cell_type": "code",
   "execution_count": 30,
   "metadata": {
    "collapsed": false
   },
   "outputs": [
    {
     "name": "stdout",
     "output_type": "stream",
     "text": [
      "2016-03-05    0.001071\n",
      "2016-03-06    0.004325\n",
      "2016-03-07    0.005396\n",
      "2016-03-08    0.007414\n",
      "2016-03-09    0.009597\n",
      "2016-03-10    0.010668\n",
      "2016-03-11    0.012377\n",
      "2016-03-12    0.023786\n",
      "2016-03-13    0.008897\n",
      "2016-03-14    0.012604\n",
      "2016-03-15    0.015878\n",
      "2016-03-16    0.016455\n",
      "2016-03-17    0.028091\n",
      "2016-03-18    0.007352\n",
      "2016-03-19    0.015837\n",
      "2016-03-20    0.020656\n",
      "2016-03-21    0.020636\n",
      "2016-03-22    0.021377\n",
      "2016-03-23    0.018535\n",
      "2016-03-24    0.019771\n",
      "2016-03-25    0.019215\n",
      "2016-03-26    0.016805\n",
      "2016-03-27    0.015631\n",
      "2016-03-28    0.020841\n",
      "2016-03-29    0.022345\n",
      "2016-03-30    0.024775\n",
      "2016-03-31    0.023786\n",
      "2016-04-01    0.022798\n",
      "2016-04-02    0.024919\n",
      "2016-04-03    0.025187\n",
      "2016-04-04    0.024487\n",
      "2016-04-05    0.124740\n",
      "2016-04-06    0.221801\n",
      "2016-04-07    0.131948\n",
      "Name: last_seen, dtype: float64\n"
     ]
    }
   ],
   "source": [
    "print(autos['last_seen'].str[:10].value_counts(normalize = True, dropna = False).sort_index())"
   ]
  },
  {
   "cell_type": "markdown",
   "metadata": {},
   "source": [
    "# Interpretation of last_seen:\n",
    "\n",
    "* This column was created by the crawler. It only includes days on which the crawler was active\n",
    "\n",
    "* On days on which very few ads were first seen by the crawler, a lot of them were taken off the website. "
   ]
  },
  {
   "cell_type": "code",
   "execution_count": 29,
   "metadata": {
    "collapsed": false
   },
   "outputs": [
    {
     "name": "stdout",
     "output_type": "stream",
     "text": [
      "count    48557.000000\n",
      "mean      2004.754968\n",
      "std         88.651037\n",
      "min       1000.000000\n",
      "25%       1999.000000\n",
      "50%       2004.000000\n",
      "75%       2008.000000\n",
      "max       9999.000000\n",
      "Name: registration_year, dtype: float64\n"
     ]
    }
   ],
   "source": [
    "print(autos['registration_year'].describe())"
   ]
  },
  {
   "cell_type": "markdown",
   "metadata": {},
   "source": [
    "# Interpretation registration year\n",
    "\n",
    "* There are several outliers (1000 and 9999)\n",
    "\n",
    "* On average the cars on the site are 12 years old\n"
   ]
  },
  {
   "cell_type": "markdown",
   "metadata": {},
   "source": [
    "# Cleaning Data from the registration year column\n",
    "\n",
    "* earliest is 1901, because if someone were to enter the wrong registration date, it might be 1900, but not 1901\n",
    "* latest ist 2016, because this is the year the data was taken and data from time travelers is norotiously unreliable"
   ]
  },
  {
   "cell_type": "code",
   "execution_count": 37,
   "metadata": {
    "collapsed": false
   },
   "outputs": [
    {
     "data": {
      "text/plain": [
       "True     46673\n",
       "False     1884\n",
       "Name: registration_year, dtype: int64"
      ]
     },
     "execution_count": 37,
     "metadata": {},
     "output_type": "execute_result"
    }
   ],
   "source": [
    "autos['registration_year'].between(1901,2016).value_counts()\n"
   ]
  },
  {
   "cell_type": "markdown",
   "metadata": {},
   "source": [
    "# Removal of inaccurate registration_year data\n",
    "\n",
    "This is alright, because we will be removing only 1884 data points"
   ]
  },
  {
   "cell_type": "code",
   "execution_count": 39,
   "metadata": {
    "collapsed": false
   },
   "outputs": [
    {
     "name": "stdout",
     "output_type": "stream",
     "text": [
      "(46673, 20)\n"
     ]
    }
   ],
   "source": [
    "autos = autos.loc[autos.loc[:,'registration_year'].between(1901, 2016),:]\n",
    "print(autos.shape)"
   ]
  },
  {
   "cell_type": "markdown",
   "metadata": {},
   "source": [
    "# Analysis by car brand"
   ]
  },
  {
   "cell_type": "code",
   "execution_count": 44,
   "metadata": {
    "collapsed": false
   },
   "outputs": [
    {
     "name": "stdout",
     "output_type": "stream",
     "text": [
      "volkswagen        0.211300\n",
      "bmw               0.110021\n",
      "opel              0.107600\n",
      "mercedes_benz     0.096480\n",
      "audi              0.086581\n",
      "ford              0.069912\n",
      "renault           0.047158\n",
      "peugeot           0.029846\n",
      "fiat              0.025647\n",
      "seat              0.018276\n",
      "skoda             0.016412\n",
      "nissan            0.015276\n",
      "mazda             0.015191\n",
      "smart             0.014162\n",
      "citroen           0.014012\n",
      "toyota            0.012705\n",
      "hyundai           0.010027\n",
      "sonstige_autos    0.009792\n",
      "volvo             0.009149\n",
      "mini              0.008763\n",
      "mitsubishi        0.008227\n",
      "honda             0.007842\n",
      "kia               0.007070\n",
      "alfa_romeo        0.006642\n",
      "porsche           0.006021\n",
      "suzuki            0.005935\n",
      "chevrolet         0.005699\n",
      "chrysler          0.003514\n",
      "dacia             0.002635\n",
      "daihatsu          0.002507\n",
      "jeep              0.002271\n",
      "subaru            0.002143\n",
      "land_rover        0.002100\n",
      "saab              0.001650\n",
      "jaguar            0.001564\n",
      "daewoo            0.001500\n",
      "trabant           0.001393\n",
      "rover             0.001328\n",
      "lancia            0.001071\n",
      "lada              0.000578\n",
      "Name: brand, dtype: float64\n"
     ]
    }
   ],
   "source": [
    "print(autos['brand'].value_counts(normalize = True))"
   ]
  },
  {
   "cell_type": "markdown",
   "metadata": {},
   "source": [
    "# Observations\n",
    "\n",
    "* The most common car brands are German\n",
    "* Volkswagen is by a wide margin the most common brand of car\n",
    "* Cars with only a low market share don't provide enough data\n",
    "* only car brands with more than 5% mark will be used\n",
    "    * These brands are all German (German Ford is made in cologne, the models are distinct from the American ones)"
   ]
  },
  {
   "cell_type": "code",
   "execution_count": 60,
   "metadata": {
    "collapsed": false
   },
   "outputs": [
    {
     "name": "stdout",
     "output_type": "stream",
     "text": [
      "{'mercedes_benz': 8628.450366422385, 'ford': 3749.4695065890287, 'audi': 9336.687453600594, 'volkswagen': 5402.410261610221, 'opel': 2975.2419354838707, 'bmw': 8236.9423563778}\n"
     ]
    }
   ],
   "source": [
    "mean_price_brand = {}\n",
    "indices = autos['brand'].value_counts(normalize = True)[:6].index\n",
    "for index in indices:\n",
    "    mean_price_brand[index] = autos.loc[autos['brand'] == index,'price'].mean()\n",
    "print(mean_price_brand)"
   ]
  },
  {
   "cell_type": "markdown",
   "metadata": {},
   "source": [
    "# Analysis of the data\n",
    "\n",
    "* The premium brands (Mercedes, Audi, BMW) are more expensive than the exonomy brands (Opel, Ford). Volkswagen is in the middle"
   ]
  },
  {
   "cell_type": "markdown",
   "metadata": {},
   "source": [
    "# Analysis of 'milage' (in kilometers)"
   ]
  },
  {
   "cell_type": "code",
   "execution_count": 64,
   "metadata": {
    "collapsed": false
   },
   "outputs": [
    {
     "name": "stdout",
     "output_type": "stream",
     "text": [
      "{'mercedes_benz': 130788.36331334666, 'ford': 124266.01287159056, 'audi': 129157.38678544914, 'volkswagen': 128707.15879132022, 'opel': 129310.0358422939, 'bmw': 132619.2794547225}\n"
     ]
    }
   ],
   "source": [
    "mean_milage_brand = {}\n",
    "for index in indices:\n",
    "    mean_milage_brand[index] = autos.loc[autos['brand'] == index,'odometer_km'].mean()\n",
    "print(mean_milage_brand)"
   ]
  },
  {
   "cell_type": "markdown",
   "metadata": {},
   "source": [
    "# Turn them into pandas series"
   ]
  },
  {
   "cell_type": "code",
   "execution_count": 85,
   "metadata": {
    "collapsed": false
   },
   "outputs": [
    {
     "data": {
      "text/html": [
       "<div>\n",
       "<style scoped>\n",
       "    .dataframe tbody tr th:only-of-type {\n",
       "        vertical-align: middle;\n",
       "    }\n",
       "\n",
       "    .dataframe tbody tr th {\n",
       "        vertical-align: top;\n",
       "    }\n",
       "\n",
       "    .dataframe thead th {\n",
       "        text-align: right;\n",
       "    }\n",
       "</style>\n",
       "<table border=\"1\" class=\"dataframe\">\n",
       "  <thead>\n",
       "    <tr style=\"text-align: right;\">\n",
       "      <th></th>\n",
       "      <th>mean_price</th>\n",
       "      <th>mean_milage</th>\n",
       "    </tr>\n",
       "  </thead>\n",
       "  <tbody>\n",
       "    <tr>\n",
       "      <th>audi</th>\n",
       "      <td>9336.687454</td>\n",
       "      <td>129157.386785</td>\n",
       "    </tr>\n",
       "    <tr>\n",
       "      <th>bmw</th>\n",
       "      <td>8236.942356</td>\n",
       "      <td>132619.279455</td>\n",
       "    </tr>\n",
       "    <tr>\n",
       "      <th>ford</th>\n",
       "      <td>3749.469507</td>\n",
       "      <td>124266.012872</td>\n",
       "    </tr>\n",
       "    <tr>\n",
       "      <th>mercedes_benz</th>\n",
       "      <td>8628.450366</td>\n",
       "      <td>130788.363313</td>\n",
       "    </tr>\n",
       "    <tr>\n",
       "      <th>opel</th>\n",
       "      <td>2975.241935</td>\n",
       "      <td>129310.035842</td>\n",
       "    </tr>\n",
       "    <tr>\n",
       "      <th>volkswagen</th>\n",
       "      <td>5402.410262</td>\n",
       "      <td>128707.158791</td>\n",
       "    </tr>\n",
       "  </tbody>\n",
       "</table>\n",
       "</div>"
      ],
      "text/plain": [
       "                mean_price    mean_milage\n",
       "audi           9336.687454  129157.386785\n",
       "bmw            8236.942356  132619.279455\n",
       "ford           3749.469507  124266.012872\n",
       "mercedes_benz  8628.450366  130788.363313\n",
       "opel           2975.241935  129310.035842\n",
       "volkswagen     5402.410262  128707.158791"
      ]
     },
     "execution_count": 85,
     "metadata": {},
     "output_type": "execute_result"
    }
   ],
   "source": [
    "milage = pd.Series(mean_milage_brand)\n",
    "price = pd.Series(mean_price_brand)\n",
    "df_comparison = pd.DataFrame(price, columns = ['mean_price'])\n",
    "df_comparison['mean_milage'] = milage\n",
    "print(df_comparison)"
   ]
  },
  {
   "cell_type": "markdown",
   "metadata": {},
   "source": [
    "# Analysis\n",
    "\n",
    "* The average milage is the same across the board\n",
    "* People sell cars at a time before they lose too much value\n",
    "*"
   ]
  }
 ],
 "metadata": {
  "kernelspec": {
   "display_name": "Python 3",
   "language": "python",
   "name": "python3"
  },
  "language_info": {
   "codemirror_mode": {
    "name": "ipython",
    "version": 3
   },
   "file_extension": ".py",
   "mimetype": "text/x-python",
   "name": "python",
   "nbconvert_exporter": "python",
   "pygments_lexer": "ipython3",
   "version": "3.4.3"
  }
 },
 "nbformat": 4,
 "nbformat_minor": 2
}
